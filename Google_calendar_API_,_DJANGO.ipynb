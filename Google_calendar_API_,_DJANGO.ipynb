{
  "nbformat": 4,
  "nbformat_minor": 0,
  "metadata": {
    "colab": {
      "provenance": []
    },
    "kernelspec": {
      "name": "python3",
      "display_name": "Python 3"
    },
    "language_info": {
      "name": "python"
    }
  },
  "cells": [
    {
      "cell_type": "code",
      "execution_count": 1,
      "metadata": {
        "colab": {
          "base_uri": "https://localhost:8080/"
        },
        "id": "230Yx6gkXgIV",
        "outputId": "fe02819c-6a73-479e-aac1-dd7e8f183ffb"
      },
      "outputs": [
        {
          "output_type": "stream",
          "name": "stdout",
          "text": [
            "Looking in indexes: https://pypi.org/simple, https://us-python.pkg.dev/colab-wheels/public/simple/\n",
            "Requirement already satisfied: google-auth in /usr/local/lib/python3.10/dist-packages (2.17.3)\n",
            "Requirement already satisfied: google-auth-oauthlib in /usr/local/lib/python3.10/dist-packages (1.0.0)\n",
            "Requirement already satisfied: google-auth-httplib2 in /usr/local/lib/python3.10/dist-packages (0.1.0)\n",
            "Requirement already satisfied: google-api-python-client in /usr/local/lib/python3.10/dist-packages (2.84.0)\n",
            "Collecting Django\n",
            "  Downloading Django-4.2.1-py3-none-any.whl (8.0 MB)\n",
            "\u001b[2K     \u001b[90m━━━━━━━━━━━━━━━━━━━━━━━━━━━━━━━━━━━━━━━━\u001b[0m \u001b[32m8.0/8.0 MB\u001b[0m \u001b[31m54.3 MB/s\u001b[0m eta \u001b[36m0:00:00\u001b[0m\n",
            "\u001b[?25hRequirement already satisfied: cachetools<6.0,>=2.0.0 in /usr/local/lib/python3.10/dist-packages (from google-auth) (5.3.0)\n",
            "Requirement already satisfied: pyasn1-modules>=0.2.1 in /usr/local/lib/python3.10/dist-packages (from google-auth) (0.3.0)\n",
            "Requirement already satisfied: six>=1.9.0 in /usr/local/lib/python3.10/dist-packages (from google-auth) (1.16.0)\n",
            "Requirement already satisfied: rsa<5,>=3.1.4 in /usr/local/lib/python3.10/dist-packages (from google-auth) (4.9)\n",
            "Requirement already satisfied: requests-oauthlib>=0.7.0 in /usr/local/lib/python3.10/dist-packages (from google-auth-oauthlib) (1.3.1)\n",
            "Requirement already satisfied: httplib2>=0.15.0 in /usr/local/lib/python3.10/dist-packages (from google-auth-httplib2) (0.21.0)\n",
            "Requirement already satisfied: google-api-core!=2.0.*,!=2.1.*,!=2.2.*,!=2.3.0,<3.0.0dev,>=1.31.5 in /usr/local/lib/python3.10/dist-packages (from google-api-python-client) (2.11.0)\n",
            "Requirement already satisfied: uritemplate<5,>=3.0.1 in /usr/local/lib/python3.10/dist-packages (from google-api-python-client) (4.1.1)\n",
            "Collecting asgiref<4,>=3.6.0 (from Django)\n",
            "  Downloading asgiref-3.7.2-py3-none-any.whl (24 kB)\n",
            "Requirement already satisfied: sqlparse>=0.3.1 in /usr/local/lib/python3.10/dist-packages (from Django) (0.4.4)\n",
            "Requirement already satisfied: typing-extensions>=4 in /usr/local/lib/python3.10/dist-packages (from asgiref<4,>=3.6.0->Django) (4.5.0)\n",
            "Requirement already satisfied: googleapis-common-protos<2.0dev,>=1.56.2 in /usr/local/lib/python3.10/dist-packages (from google-api-core!=2.0.*,!=2.1.*,!=2.2.*,!=2.3.0,<3.0.0dev,>=1.31.5->google-api-python-client) (1.59.0)\n",
            "Requirement already satisfied: protobuf!=3.20.0,!=3.20.1,!=4.21.0,!=4.21.1,!=4.21.2,!=4.21.3,!=4.21.4,!=4.21.5,<5.0.0dev,>=3.19.5 in /usr/local/lib/python3.10/dist-packages (from google-api-core!=2.0.*,!=2.1.*,!=2.2.*,!=2.3.0,<3.0.0dev,>=1.31.5->google-api-python-client) (3.20.3)\n",
            "Requirement already satisfied: requests<3.0.0dev,>=2.18.0 in /usr/local/lib/python3.10/dist-packages (from google-api-core!=2.0.*,!=2.1.*,!=2.2.*,!=2.3.0,<3.0.0dev,>=1.31.5->google-api-python-client) (2.27.1)\n",
            "Requirement already satisfied: pyparsing!=3.0.0,!=3.0.1,!=3.0.2,!=3.0.3,<4,>=2.4.2 in /usr/local/lib/python3.10/dist-packages (from httplib2>=0.15.0->google-auth-httplib2) (3.0.9)\n",
            "Requirement already satisfied: pyasn1<0.6.0,>=0.4.6 in /usr/local/lib/python3.10/dist-packages (from pyasn1-modules>=0.2.1->google-auth) (0.5.0)\n",
            "Requirement already satisfied: oauthlib>=3.0.0 in /usr/local/lib/python3.10/dist-packages (from requests-oauthlib>=0.7.0->google-auth-oauthlib) (3.2.2)\n",
            "Requirement already satisfied: urllib3<1.27,>=1.21.1 in /usr/local/lib/python3.10/dist-packages (from requests<3.0.0dev,>=2.18.0->google-api-core!=2.0.*,!=2.1.*,!=2.2.*,!=2.3.0,<3.0.0dev,>=1.31.5->google-api-python-client) (1.26.15)\n",
            "Requirement already satisfied: certifi>=2017.4.17 in /usr/local/lib/python3.10/dist-packages (from requests<3.0.0dev,>=2.18.0->google-api-core!=2.0.*,!=2.1.*,!=2.2.*,!=2.3.0,<3.0.0dev,>=1.31.5->google-api-python-client) (2022.12.7)\n",
            "Requirement already satisfied: charset-normalizer~=2.0.0 in /usr/local/lib/python3.10/dist-packages (from requests<3.0.0dev,>=2.18.0->google-api-core!=2.0.*,!=2.1.*,!=2.2.*,!=2.3.0,<3.0.0dev,>=1.31.5->google-api-python-client) (2.0.12)\n",
            "Requirement already satisfied: idna<4,>=2.5 in /usr/local/lib/python3.10/dist-packages (from requests<3.0.0dev,>=2.18.0->google-api-core!=2.0.*,!=2.1.*,!=2.2.*,!=2.3.0,<3.0.0dev,>=1.31.5->google-api-python-client) (3.4)\n",
            "Installing collected packages: asgiref, Django\n",
            "Successfully installed Django-4.2.1 asgiref-3.7.2\n"
          ]
        }
      ],
      "source": [
        "!pip install google-auth google-auth-oauthlib google-auth-httplib2 google-api-python-client Django\n"
      ]
    },
    {
      "cell_type": "code",
      "source": [
        "from google.colab import drive\n",
        "drive.mount('/content/drive')\n"
      ],
      "metadata": {
        "colab": {
          "base_uri": "https://localhost:8080/"
        },
        "id": "tuUMD_hlXyMg",
        "outputId": "03874401-8542-4825-a87d-2d924d2f3280"
      },
      "execution_count": 2,
      "outputs": [
        {
          "output_type": "stream",
          "name": "stdout",
          "text": [
            "Mounted at /content/drive\n"
          ]
        }
      ]
    },
    {
      "cell_type": "code",
      "source": [
        "import os\n",
        "from django.http import HttpResponse\n",
        "from django.views import View\n",
        "from google_auth_oauthlib.flow import Flow\n",
        "from googleapiclient.discovery import build\n",
        "from google.oauth2.credentials import Credentials\n"
      ],
      "metadata": {
        "id": "j7lDsR58X7eh"
      },
      "execution_count": 3,
      "outputs": []
    },
    {
      "cell_type": "code",
      "source": [
        "CLIENT_SECRETS_FILE = '/content/client_secret.com (1).json'\n"
      ],
      "metadata": {
        "id": "PPfqBX6fYAyg"
      },
      "execution_count": 4,
      "outputs": []
    },
    {
      "cell_type": "code",
      "source": [
        "class GoogleCalendarInitView(View):\n",
        "    def get(self, request):\n",
        "        flow = Flow.from_client_secrets_file(\n",
        "            CLIENT_SECRETS_FILE,\n",
        "            scopes=['https://www.googleapis.com/auth/calendar.readonly'],\n",
        "            redirect_uri='urn:ietf:wg:oauth:2.0:oob',\n",
        "        )\n",
        "        authorization_url, state = flow.authorization_url(access_type='offline', include_granted_scopes='true')\n",
        "        request.session['state'] = state\n",
        "        return HttpResponse(authorization_url)\n",
        "\n",
        "class GoogleCalendarRedirectView(View):\n",
        "    def get(self, request):\n",
        "        state = request.session['state']\n",
        "        flow = Flow.from_client_secrets_file(\n",
        "            CLIENT_SECRETS_FILE,\n",
        "            scopes=['https://www.googleapis.com/auth/calendar.readonly'],\n",
        "            redirect_uri='urn:ietf:wg:oauth:2.0:oob',\n",
        "            state=state\n",
        "        )\n",
        "        flow.fetch_token(authorization_response=request.GET.get('code'))\n",
        "        credentials = flow.credentials\n",
        "\n",
        "        service = build('calendar', 'v3', credentials=credentials)\n",
        "        events_result = service.events().list(calendarId='primary', maxResults=10).execute()\n",
        "        events = events_result.get('items', [])\n",
        "\n",
        "        response_data = []\n",
        "        for event in events:\n",
        "            response_data.append({\n",
        "                'summary': event['summary'],\n",
        "                'start': event['start'].get('dateTime', event['start'].get('date')),\n",
        "                'end': event['end'].get('dateTime', event['end'].get('date'))\n",
        "            })\n",
        "        return HttpResponse(response_data)\n"
      ],
      "metadata": {
        "id": "MEYHn4KlEbWD"
      },
      "execution_count": 7,
      "outputs": []
    },
    {
      "cell_type": "code",
      "source": [
        "!pip install django\n",
        "!pip install djangorestframework\n",
        "\n",
        "import os\n",
        "os.environ.setdefault(\"DJANGO_SETTINGS_MODULE\", \"settings\")\n",
        "\n",
        "!python manage.py migrate\n",
        "\n",
        "!python manage.py runserver\n"
      ],
      "metadata": {
        "colab": {
          "base_uri": "https://localhost:8080/"
        },
        "id": "rmWQtUcpYZhi",
        "outputId": "406aec96-d5c2-4260-caa5-07aeb77aa078"
      },
      "execution_count": 6,
      "outputs": [
        {
          "output_type": "stream",
          "name": "stdout",
          "text": [
            "Looking in indexes: https://pypi.org/simple, https://us-python.pkg.dev/colab-wheels/public/simple/\n",
            "Requirement already satisfied: django in /usr/local/lib/python3.10/dist-packages (4.2.1)\n",
            "Requirement already satisfied: asgiref<4,>=3.6.0 in /usr/local/lib/python3.10/dist-packages (from django) (3.7.2)\n",
            "Requirement already satisfied: sqlparse>=0.3.1 in /usr/local/lib/python3.10/dist-packages (from django) (0.4.4)\n",
            "Requirement already satisfied: typing-extensions>=4 in /usr/local/lib/python3.10/dist-packages (from asgiref<4,>=3.6.0->django) (4.5.0)\n",
            "Looking in indexes: https://pypi.org/simple, https://us-python.pkg.dev/colab-wheels/public/simple/\n",
            "Collecting djangorestframework\n",
            "  Downloading djangorestframework-3.14.0-py3-none-any.whl (1.1 MB)\n",
            "\u001b[2K     \u001b[90m━━━━━━━━━━━━━━━━━━━━━━━━━━━━━━━━━━━━━━━━\u001b[0m \u001b[32m1.1/1.1 MB\u001b[0m \u001b[31m37.4 MB/s\u001b[0m eta \u001b[36m0:00:00\u001b[0m\n",
            "\u001b[?25hRequirement already satisfied: django>=3.0 in /usr/local/lib/python3.10/dist-packages (from djangorestframework) (4.2.1)\n",
            "Requirement already satisfied: pytz in /usr/local/lib/python3.10/dist-packages (from djangorestframework) (2022.7.1)\n",
            "Requirement already satisfied: asgiref<4,>=3.6.0 in /usr/local/lib/python3.10/dist-packages (from django>=3.0->djangorestframework) (3.7.2)\n",
            "Requirement already satisfied: sqlparse>=0.3.1 in /usr/local/lib/python3.10/dist-packages (from django>=3.0->djangorestframework) (0.4.4)\n",
            "Requirement already satisfied: typing-extensions>=4 in /usr/local/lib/python3.10/dist-packages (from asgiref<4,>=3.6.0->django>=3.0->djangorestframework) (4.5.0)\n",
            "Installing collected packages: djangorestframework\n",
            "Successfully installed djangorestframework-3.14.0\n",
            "python3: can't open file '/content/manage.py': [Errno 2] No such file or directory\n",
            "python3: can't open file '/content/manage.py': [Errno 2] No such file or directory\n"
          ]
        }
      ]
    }
  ]
}